{
 "cells": [
  {
   "cell_type": "code",
   "execution_count": 1,
   "metadata": {},
   "outputs": [],
   "source": [
    "import numpy as np\n",
    "import matplotlib.pyplot as plt\n",
    "import lmfit \n",
    "from fitting_functions import power_decay_convolved\n",
    "\n",
    "%matplotlib widget"
   ]
  },
  {
   "cell_type": "code",
   "execution_count": 2,
   "metadata": {},
   "outputs": [
    {
     "data": {
      "application/vnd.jupyter.widget-view+json": {
       "model_id": "9d404eb314c14e5897bfbfe6fe9312c3",
       "version_major": 2,
       "version_minor": 0
      },
      "text/plain": [
       "Canvas(toolbar=Toolbar(toolitems=[('Home', 'Reset original view', 'home', 'home'), ('Back', 'Back to previous …"
      ]
     },
     "metadata": {},
     "output_type": "display_data"
    }
   ],
   "source": [
    "x, y = np.loadtxt('data.csv', delimiter=',', unpack=True)\n",
    "\n",
    "\n",
    "fig, ax = plt.subplots()\n",
    "\n",
    "ax.plot(x, y, 'k')\n",
    "\n",
    "centers = np.linspace(290, 310, 20)\n",
    "colors = plt.cm.viridis(np.linspace(0, 1, len(centers)))\n",
    "for center, color in zip(centers, colors):\n",
    "    yfit = power_decay_convolved(x, center=center, amplitude=50, eta=.5, res=10)\n",
    "    ax.plot(x, yfit, color=color)\n"
   ]
  },
  {
   "cell_type": "code",
   "execution_count": 3,
   "metadata": {},
   "outputs": [
    {
     "data": {
      "application/vnd.jupyter.widget-view+json": {
       "model_id": "32607e2782fd4d7fa133bfa7bec41dbe",
       "version_major": 2,
       "version_minor": 0
      },
      "text/plain": [
       "Canvas(toolbar=Toolbar(toolitems=[('Home', 'Reset original view', 'home', 'home'), ('Back', 'Back to previous …"
      ]
     },
     "metadata": {},
     "output_type": "display_data"
    }
   ],
   "source": [
    "x, y = np.loadtxt('data.csv', delimiter=',', unpack=True)\n",
    "\n",
    "\n",
    "fig, ax = plt.subplots()\n",
    "\n",
    "ax.plot(x, y, 'k')\n",
    "\n",
    "etas = np.linspace(.1, 1, 20)\n",
    "colors = plt.cm.viridis(np.linspace(0, 1, len(centers)))\n",
    "for eta, color in zip(etas, colors):\n",
    "    yfit = power_decay_convolved(x, center=300, amplitude=50, eta=eta, res=10)\n",
    "    ax.plot(x, yfit, color=color)\n"
   ]
  },
  {
   "cell_type": "code",
   "execution_count": 4,
   "metadata": {},
   "outputs": [
    {
     "data": {
      "application/vnd.jupyter.widget-view+json": {
       "model_id": "9ce08ea74e87410c8e2a39a71c2daeab",
       "version_major": 2,
       "version_minor": 0
      },
      "text/plain": [
       "Canvas(toolbar=Toolbar(toolitems=[('Home', 'Reset original view', 'home', 'home'), ('Back', 'Back to previous …"
      ]
     },
     "metadata": {},
     "output_type": "display_data"
    }
   ],
   "source": [
    "x, y = np.loadtxt('data.csv', delimiter=',', unpack=True)\n",
    "\n",
    "\n",
    "fig, ax = plt.subplots()\n",
    "\n",
    "ax.plot(x, y, 'k')\n",
    "\n",
    "ress = np.linspace(5, 15, 20)\n",
    "colors = plt.cm.viridis(np.linspace(0, 1, len(centers)))\n",
    "for res, color in zip(ress, colors):\n",
    "    yfit = power_decay_convolved(x, center=300, amplitude=50, eta=.5, res=res)\n",
    "    ax.plot(x, yfit, color=color)\n"
   ]
  },
  {
   "cell_type": "code",
   "execution_count": 5,
   "metadata": {},
   "outputs": [
    {
     "data": {
      "application/vnd.jupyter.widget-view+json": {
       "model_id": "747bc4f93c484d1d89cc83954b6b7d13",
       "version_major": 2,
       "version_minor": 0
      },
      "text/plain": [
       "Canvas(toolbar=Toolbar(toolitems=[('Home', 'Reset original view', 'home', 'home'), ('Back', 'Back to previous …"
      ]
     },
     "metadata": {},
     "output_type": "display_data"
    },
    {
     "name": "stdout",
     "output_type": "stream",
     "text": [
      "[[Model]]\n",
      "    Model(power_decay_convolved)\n",
      "[[Fit Statistics]]\n",
      "    # fitting method   = brute\n",
      "    # function evals   = 2660\n",
      "    # data points      = 46\n",
      "    # variables        = 3\n",
      "    chi-square         = 0.00920856\n",
      "    reduced chi-square = 2.1415e-04\n",
      "    Akaike info crit   = -385.748097\n",
      "    Bayesian info crit = -380.262173\n",
      "##  Warning: uncertainties could not be estimated:\n",
      "[[Variables]]\n",
      "    amplitude:  45.0000000 (init = ?)\n",
      "    center:     308.000000 (init = ?)\n",
      "    eta:        0.90000000 (init = ?)\n",
      "    res:        10 (fixed)\n"
     ]
    }
   ],
   "source": [
    "model = lmfit.Model(power_decay_convolved)\n",
    "params = model.make_params()\n",
    "params['center'].set(value=300, min=290, max=310, brute_step=2)\n",
    "params['eta'].set(value=.5, min=.05, max=1, brute_step=.05)\n",
    "params['amplitude'].set(value=50, min=30, max=100, brute_step=5)\n",
    "params['res'].set(value=10, vary=False)\n",
    "\n",
    "result = model.fit(y, x=x, params=params, method='brute')\n",
    "\n",
    "fig, ax = plt.subplots()\n",
    "\n",
    "result.plot_fit(ax=ax, show_init=True)\n",
    "\n",
    "print(result.fit_report())"
   ]
  },
  {
   "cell_type": "code",
   "execution_count": 6,
   "metadata": {},
   "outputs": [
    {
     "data": {
      "application/vnd.jupyter.widget-view+json": {
       "model_id": "a2db7f0f4fc0444f8efdd9c4f70a62c9",
       "version_major": 2,
       "version_minor": 0
      },
      "text/plain": [
       "Canvas(toolbar=Toolbar(toolitems=[('Home', 'Reset original view', 'home', 'home'), ('Back', 'Back to previous …"
      ]
     },
     "metadata": {},
     "output_type": "display_data"
    },
    {
     "name": "stdout",
     "output_type": "stream",
     "text": [
      "[[Model]]\n",
      "    Model(power_decay_convolved)\n",
      "[[Fit Statistics]]\n",
      "    # fitting method   = leastsq\n",
      "    # function evals   = 53\n",
      "    # data points      = 46\n",
      "    # variables        = 3\n",
      "    chi-square         = 0.00885257\n",
      "    reduced chi-square = 2.0587e-04\n",
      "    Akaike info crit   = -387.561688\n",
      "    Bayesian info crit = -382.075764\n",
      "[[Variables]]\n",
      "    amplitude:  45.0389969 +/- 0.73148822 (1.62%) (init = 45)\n",
      "    center:     307.916667 +/- 0.17026988 (0.06%) (init = 308)\n",
      "    eta:        0.89420896 +/- 0.04043919 (4.52%) (init = 0.9)\n",
      "    res:        10 (fixed)\n",
      "[[Correlations]] (unreported correlations are < 0.100)\n",
      "    C(center, eta)       =  0.929\n",
      "    C(amplitude, eta)    =  0.765\n",
      "    C(amplitude, center) =  0.586\n"
     ]
    }
   ],
   "source": [
    "result_refined = model.fit(y, x=x, params=result.params)\n",
    "\n",
    "fig, ax = plt.subplots()\n",
    "\n",
    "result_refined.plot_fit(ax=ax, show_init=True)\n",
    "\n",
    "print(result_refined.fit_report())"
   ]
  }
 ],
 "metadata": {
  "kernelspec": {
   "display_name": "Python 3",
   "language": "python",
   "name": "python3"
  },
  "language_info": {
   "codemirror_mode": {
    "name": "ipython",
    "version": 3
   },
   "file_extension": ".py",
   "mimetype": "text/x-python",
   "name": "python",
   "nbconvert_exporter": "python",
   "pygments_lexer": "ipython3",
   "version": "3.8.5"
  }
 },
 "nbformat": 4,
 "nbformat_minor": 4
}
